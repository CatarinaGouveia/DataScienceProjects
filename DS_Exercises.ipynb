{
  "nbformat": 4,
  "nbformat_minor": 0,
  "metadata": {
    "colab": {
      "provenance": [],
      "toc_visible": true,
      "authorship_tag": "ABX9TyPNRqGi6G2Y/OdNEvZWthSj",
      "include_colab_link": true
    },
    "kernelspec": {
      "name": "python3",
      "display_name": "Python 3"
    },
    "language_info": {
      "name": "python"
    }
  },
  "cells": [
    {
      "cell_type": "markdown",
      "metadata": {
        "id": "view-in-github",
        "colab_type": "text"
      },
      "source": [
        "<a href=\"https://colab.research.google.com/github/CatarinaGouveia/DataScienceProjects/blob/main/DS_Exercises.ipynb\" target=\"_parent\"><img src=\"https://colab.research.google.com/assets/colab-badge.svg\" alt=\"Open In Colab\"/></a>"
      ]
    },
    {
      "cell_type": "markdown",
      "source": [
        "# How to Create a Linked List in Python"
      ],
      "metadata": {
        "id": "2xerzKEfntXB"
      }
    },
    {
      "cell_type": "code",
      "source": [
        "class LinkedList:\n",
        "    def __init__(self, nodes=None):\n",
        "        self.head = None\n",
        "        if nodes is not None:\n",
        "            node = Node(data=nodes.pop(0))\n",
        "            self.head = node\n",
        "            for elem in nodes:\n",
        "                node.next = Node(data=elem)\n",
        "                node = node.next\n",
        "\n",
        "    def __iter__(self):\n",
        "        node = self.head\n",
        "        while node is not None:\n",
        "            yield node\n",
        "            node = node.next\n",
        "    \n",
        "    def __repr__(self):\n",
        "        node = self.head\n",
        "        nodes = []\n",
        "        while node is not None:\n",
        "            nodes.append(node.data)\n",
        "            node = node.next\n",
        "        nodes.append(\"None\")\n",
        "        return \" -> \".join(nodes)\n"
      ],
      "metadata": {
        "id": "0XJ_NvcFnvwK"
      },
      "execution_count": 8,
      "outputs": []
    },
    {
      "cell_type": "code",
      "source": [
        "class Node:\n",
        "    def __init__(self, data):\n",
        "        self.data = data\n",
        "        self.next = None\n",
        "\n",
        "    def __repr__(self):\n",
        "        return self.data\n"
      ],
      "metadata": {
        "id": "iBj7io4Ln5sm"
      },
      "execution_count": 9,
      "outputs": []
    },
    {
      "cell_type": "code",
      "source": [
        "llist = LinkedList()\n",
        "llist"
      ],
      "metadata": {
        "colab": {
          "base_uri": "https://localhost:8080/"
        },
        "id": "Pr0t54nLpXyf",
        "outputId": "934d5b71-6f16-4028-a682-797b3628784b"
      },
      "execution_count": 4,
      "outputs": [
        {
          "output_type": "execute_result",
          "data": {
            "text/plain": [
              "None"
            ]
          },
          "metadata": {},
          "execution_count": 4
        }
      ]
    },
    {
      "cell_type": "code",
      "source": [
        "first_node = Node(\"a\")\n",
        "llist.head = first_node\n",
        "llist"
      ],
      "metadata": {
        "colab": {
          "base_uri": "https://localhost:8080/"
        },
        "id": "2eEhGlXUpbBB",
        "outputId": "af6de544-4b46-4ca7-a782-28f25ceaa679"
      },
      "execution_count": 5,
      "outputs": [
        {
          "output_type": "execute_result",
          "data": {
            "text/plain": [
              "a -> None"
            ]
          },
          "metadata": {},
          "execution_count": 5
        }
      ]
    },
    {
      "cell_type": "code",
      "source": [
        "second_node = Node(\"b\")\n",
        "third_node = Node(\"c\")\n",
        "first_node.next = second_node\n",
        "second_node.next = third_node\n",
        "llist"
      ],
      "metadata": {
        "colab": {
          "base_uri": "https://localhost:8080/"
        },
        "id": "IHoF6uv_pfUu",
        "outputId": "7fd19726-7d6c-4491-8d1c-36f84a54e90c"
      },
      "execution_count": 6,
      "outputs": [
        {
          "output_type": "execute_result",
          "data": {
            "text/plain": [
              "a -> b -> c -> None"
            ]
          },
          "metadata": {},
          "execution_count": 6
        }
      ]
    },
    {
      "cell_type": "markdown",
      "source": [
        "### Exercise - Find bigrams in a sentence"
      ],
      "metadata": {
        "id": "KFyrCE-fIjI9"
      }
    },
    {
      "cell_type": "code",
      "source": [
        "def find_bigrams(sentence):\n",
        "    new = sentence.lower().split()\n",
        "    return list(zip(new, new[1:]))"
      ],
      "metadata": {
        "id": "pn4uHvzPpkhc"
      },
      "execution_count": 14,
      "outputs": []
    },
    {
      "cell_type": "code",
      "source": [
        "sentence = \"\"\"\n",
        "Have free hours and love children? \n",
        "Drive kids to school, soccer practice \n",
        "and other activities.\n",
        "\"\"\""
      ],
      "metadata": {
        "id": "OUeg5Dls-Jm9"
      },
      "execution_count": 10,
      "outputs": []
    },
    {
      "cell_type": "code",
      "source": [
        "find_bigrams(sentence)"
      ],
      "metadata": {
        "colab": {
          "base_uri": "https://localhost:8080/"
        },
        "id": "vE8ZSG_0-fcR",
        "outputId": "11b14371-465e-4daa-da33-732fc0c1550f"
      },
      "execution_count": 13,
      "outputs": [
        {
          "output_type": "execute_result",
          "data": {
            "text/plain": [
              "[('have', 'free'),\n",
              " ('free', 'hours'),\n",
              " ('hours', 'and'),\n",
              " ('and', 'love'),\n",
              " ('love', 'children?'),\n",
              " ('children?', 'drive'),\n",
              " ('drive', 'kids'),\n",
              " ('kids', 'to'),\n",
              " ('to', 'school,'),\n",
              " ('school,', 'soccer'),\n",
              " ('soccer', 'practice'),\n",
              " ('practice', 'and'),\n",
              " ('and', 'other'),\n",
              " ('other', 'activities.')]"
            ]
          },
          "metadata": {},
          "execution_count": 13
        }
      ]
    },
    {
      "cell_type": "code",
      "source": [
        "print(list(zip(sentence.split())))"
      ],
      "metadata": {
        "colab": {
          "base_uri": "https://localhost:8080/"
        },
        "id": "gFcTLmH6-hhf",
        "outputId": "637b33e8-2936-4439-9ca6-c08c8d972d35"
      },
      "execution_count": 6,
      "outputs": [
        {
          "output_type": "stream",
          "name": "stdout",
          "text": [
            "[('Have',), ('free',), ('hours',), ('and',), ('love',), ('children?',), ('Drive',), ('kids',), ('to',), ('school,',), ('soccer',), ('practice',), ('and',), ('other',), ('activities.',)]\n"
          ]
        }
      ]
    },
    {
      "cell_type": "markdown",
      "source": [
        "#### Playing with zip"
      ],
      "metadata": {
        "id": "GiR7_0zoIev8"
      }
    },
    {
      "cell_type": "code",
      "source": [
        "a = (\"John\", \"Charles\", \"Mike\")\n",
        "b = (\"Jenny\", \"Christy\", \"Monica\", \"Vicky\")\n",
        "\n",
        "x = zip(a, b)\n",
        "print(dict(x))"
      ],
      "metadata": {
        "colab": {
          "base_uri": "https://localhost:8080/"
        },
        "id": "MVJrIm6Z-ntZ",
        "outputId": "b9f16e38-1d75-4da9-ea14-c5761c02ee1c"
      },
      "execution_count": 16,
      "outputs": [
        {
          "output_type": "stream",
          "name": "stdout",
          "text": [
            "{'John': 'Jenny', 'Charles': 'Christy', 'Mike': 'Monica'}\n"
          ]
        }
      ]
    },
    {
      "cell_type": "markdown",
      "source": [
        "Note: \"Vicky\" was ignored because the smallest iterator decides the size of the zip iterator"
      ],
      "metadata": {
        "id": "I3sdC7nJBaqJ"
      }
    },
    {
      "cell_type": "code",
      "source": [
        "set = {1,4,5,6}\n",
        "print(set)\n",
        "set.add(8)\n",
        "print(set)\n",
        "set.update([\"123\", 9])\n",
        "print(set)\n",
        "del set"
      ],
      "metadata": {
        "colab": {
          "base_uri": "https://localhost:8080/"
        },
        "id": "AC7rxyB1ETgt",
        "outputId": "b5e391a5-b5e2-4753-850e-e0302e6116ef"
      },
      "execution_count": 32,
      "outputs": [
        {
          "output_type": "stream",
          "name": "stdout",
          "text": [
            "{1, 4, 5, 6}\n",
            "{1, 4, 5, 6, 8}\n",
            "{1, 4, 5, 6, 8, 9, '123'}\n"
          ]
        }
      ]
    },
    {
      "cell_type": "markdown",
      "source": [
        "### Exercise - Recurring character\n",
        "Given a string, write a function recurring_char to find its first recurring character. Return None if there is no recurring character.\n",
        "\n",
        "Treat upper and lower case letters as distinct characters.\n",
        "\n",
        "You may assume the input string includes no spaces."
      ],
      "metadata": {
        "id": "lY_CzE-9IQkC"
      }
    },
    {
      "cell_type": "code",
      "source": [
        "def recurring_char(input):\n",
        "    \n",
        "    char_set = set()\n",
        "    \n",
        "    for ch in input:\n",
        "        if ch in char_set:\n",
        "            return ch\n",
        "        else:\n",
        "            char_set.add(ch)\n",
        "    return None\n",
        "\n",
        "\n",
        "print(recurring_char('interviewquery'))\n",
        "print(recurring_char('interv'))"
      ],
      "metadata": {
        "colab": {
          "base_uri": "https://localhost:8080/"
        },
        "id": "8aFNK1LLBVgP",
        "outputId": "2c7a9d5e-5982-4d61-ae8e-b7d86e0436c4"
      },
      "execution_count": 36,
      "outputs": [
        {
          "output_type": "stream",
          "name": "stdout",
          "text": [
            "i\n",
            "None\n"
          ]
        }
      ]
    },
    {
      "cell_type": "markdown",
      "source": [
        "# Exercise - recurring characters with counts"
      ],
      "metadata": {
        "id": "MW2lpAdPIZ1n"
      }
    },
    {
      "cell_type": "code",
      "source": [
        "from collections import Counter\n",
        "\n",
        "def countdups(str1):\n",
        "    myList = list(str1)\n",
        "    res = Counter(myList)\n",
        "\n",
        "    final = {}\n",
        "    for ch in res:\n",
        "        if res[ch] > 1:\n",
        "            final[ch] = res[ch]\n",
        "        else:\n",
        "            continue\n",
        "    return final\n",
        "\n",
        "print(countdups('interviewqueries'))\n",
        "# print(res['a'])"
      ],
      "metadata": {
        "colab": {
          "base_uri": "https://localhost:8080/"
        },
        "id": "QVuICleXEqvF",
        "outputId": "2c9588d6-e284-42d6-dc68-b68ceb8c1b84"
      },
      "execution_count": 51,
      "outputs": [
        {
          "output_type": "stream",
          "name": "stdout",
          "text": [
            "{'i': 3, 'e': 4, 'r': 2}\n"
          ]
        }
      ]
    },
    {
      "cell_type": "code",
      "source": [
        "print(set('interviewqueries'))"
      ],
      "metadata": {
        "colab": {
          "base_uri": "https://localhost:8080/"
        },
        "id": "6V0YICYRHn0_",
        "outputId": "6b10b8f3-3c42-45c5-d98d-b92b51b5cac7"
      },
      "execution_count": 40,
      "outputs": [
        {
          "output_type": "stream",
          "name": "stdout",
          "text": [
            "{'t', 'i', 'w', 'q', 'u', 'v', 'n', 'r', 'e', 's'}\n"
          ]
        }
      ]
    },
    {
      "cell_type": "code",
      "source": [],
      "metadata": {
        "id": "Wd1LCf7lJ2FQ"
      },
      "execution_count": null,
      "outputs": []
    }
  ]
}